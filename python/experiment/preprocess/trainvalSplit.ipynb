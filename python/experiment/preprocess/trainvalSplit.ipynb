{
 "cells": [
  {
   "cell_type": "code",
   "execution_count": 4,
   "metadata": {},
   "outputs": [
    {
     "data": {
      "text/plain": [
       "[[0.012358137843028565, -0.0007543224827961034, 0.009514855042134453],\n",
       " [0.024457287226804302, -0.0030014816581192833, 0.008069587310768128],\n",
       " [0.03604388729151357, -0.006694383999428147, 0.005694485160644176],\n",
       " [0.04687511863047443, -0.011755637661794681, 0.002439323408506177],\n",
       " [0.05672399203609597, -0.018079174376313505, -0.001627679793565576],\n",
       " [0.06538410549368169, -0.025532472313925587, -0.0064212926002510315],\n",
       " [0.07267396973115652, -0.03395933333428541, -0.011841055669630935],\n",
       " [0.07844081167453415, -0.04318315641709996, -0.01777338748119766],\n",
       " [0.08256377610042731, -0.05301063867491307, -0.024093964654263157]]"
      ]
     },
     "execution_count": 4,
     "metadata": {},
     "output_type": "execute_result"
    }
   ],
   "source": [
    "import json\n",
    "import numpy as np\n",
    "# Opening JSON file\n",
    "a = open('Interpolate.json')\n",
    "\n",
    "Interpolate = json.load(a)\n",
    "Interpolate = Interpolate['data']\n",
    "Interpolate[0]['position']"
   ]
  },
  {
   "cell_type": "code",
   "execution_count": 5,
   "metadata": {},
   "outputs": [],
   "source": [
    "#softrobot width\n",
    "width = 0.02\n",
    "\n",
    "for idx,ele in enumerate(Interpolate):\n",
    "    temp = ele['position']\n",
    "    temp = np.array(temp)\n",
    "    \n",
    "    pos = np.zeros_like(temp)\n",
    "    \n",
    "    pos[:, 0] = temp[:, 1] + width/2\n",
    "    pos[:, 1] = temp[:, 2] + width/2\n",
    "    pos[:, 2] = temp[:, 0]\n",
    "    \n",
    "    pos = pos.tolist()\n",
    "    \n",
    "    Interpolate[idx]['position'] = pos"
   ]
  },
  {
   "cell_type": "code",
   "execution_count": 6,
   "metadata": {},
   "outputs": [],
   "source": [
    "import random\n",
    "random.seed(42)\n",
    "\n",
    "random.shuffle(Interpolate)\n",
    "\n",
    "length = len(Interpolate)\n",
    "trainInterpolate  =  Interpolate[:int(length*0.8)]\n",
    "valInterpolate   =  Interpolate[int(length*0.8):int(length*0.9)]\n",
    "testInterpolate    =  Interpolate[int(length*0.9):]\n",
    "\n",
    "\n",
    "trainInterpolate  = {'data':trainInterpolate}\n",
    "valInterpolate    = {'data':valInterpolate}\n",
    "testInterpolate   = {'data':testInterpolate}\n",
    "\n",
    "with open(\"trainInterpolate.json\", 'w') as trainInter:\n",
    "    json.dump(trainInterpolate,trainInter)\n",
    "    trainInter.close()\n",
    "\n",
    "with open(\"valInterpolate.json\", 'w') as valInter:\n",
    "    json.dump(valInterpolate,valInter)\n",
    "    valInter.close()\n",
    "\n",
    "with open(\"testInterpolate.json\", 'w') as testInter:\n",
    "    json.dump(testInterpolate,testInter)\n",
    "    valInter.close()"
   ]
  },
  {
   "cell_type": "code",
   "execution_count": 7,
   "metadata": {},
   "outputs": [
    {
     "data": {
      "text/plain": [
       "[[0.01006996284500666, -3.458228551255979e-05, 0.010237486165664063],\n",
       " [0.0201170604939425, -0.0001382506183505005, 0.010949405418586978],\n",
       " [0.03011847966921935, -0.00031076960571315565, 0.012134141250986621],\n",
       " [0.04005151081232652, -0.0005517475201897454, 0.013789003561864915],\n",
       " [0.049893599648917555, -0.0008606371892287794, 0.015910234765241567],\n",
       " [0.05962239840130362, -0.001236737237566463, 0.018493018322255084],\n",
       " [0.06921581653206857, -0.001679193679792938, 0.021531489677757795],\n",
       " [0.07865207090358563, -0.0021870018594402443, 0.02501874957657184],\n",
       " [0.08790973523954175, -0.0027590087301890796, 0.02894687972916989]]"
      ]
     },
     "execution_count": 7,
     "metadata": {},
     "output_type": "execute_result"
    }
   ],
   "source": [
    "## Split Extrapolate\n",
    "\n",
    "import json\n",
    "import numpy as np\n",
    "# Opening JSON file\n",
    "a = open('Extrapolate.json')\n",
    "\n",
    "Extrapolate = json.load(a)\n",
    "Extrapolate = Extrapolate['data']\n",
    "Extrapolate[0]['position']\n",
    "\n"
   ]
  },
  {
   "cell_type": "code",
   "execution_count": 8,
   "metadata": {},
   "outputs": [],
   "source": [
    "#softrobot width\n",
    "width = 0.02\n",
    "\n",
    "for idx,ele in enumerate(Extrapolate):\n",
    "    temp = ele['position']\n",
    "    temp = np.array(temp)\n",
    "    \n",
    "    pos = np.zeros_like(temp)\n",
    "    \n",
    "    pos[:, 0] = temp[:, 1] + width/2\n",
    "    pos[:, 1] = temp[:, 2] + width/2\n",
    "    pos[:, 2] = temp[:, 0]\n",
    "    \n",
    "    pos = pos.tolist()\n",
    "    \n",
    "    Extrapolate[idx]['position'] = pos"
   ]
  },
  {
   "cell_type": "code",
   "execution_count": 9,
   "metadata": {},
   "outputs": [],
   "source": [
    "import random\n",
    "random.seed(42)\n",
    "\n",
    "random.shuffle(Extrapolate)\n",
    "\n",
    "length = len(Extrapolate)\n",
    "valExtrapolate   =  Extrapolate[:]\n",
    "\n",
    "valExtrapolate    = {'data':valExtrapolate}\n",
    "\n",
    "with open(\"valExtrapolate.json\", 'w') as valExtra:\n",
    "    json.dump(valExtrapolate,valExtra)\n",
    "    valExtra.close()"
   ]
  },
  {
   "cell_type": "code",
   "execution_count": null,
   "metadata": {},
   "outputs": [],
   "source": []
  }
 ],
 "metadata": {
  "interpreter": {
   "hash": "a3e9125627a855b33378498b98445c671570c47a9fb08d6d2b8344ec5d673d64"
  },
  "kernelspec": {
   "display_name": "Python 3.8.3 ('diff_pd')",
   "language": "python",
   "name": "python3"
  },
  "language_info": {
   "codemirror_mode": {
    "name": "ipython",
    "version": 3
   },
   "file_extension": ".py",
   "mimetype": "text/x-python",
   "name": "python",
   "nbconvert_exporter": "python",
   "pygments_lexer": "ipython3",
   "version": "3.8.3"
  },
  "orig_nbformat": 4
 },
 "nbformat": 4,
 "nbformat_minor": 2
}
