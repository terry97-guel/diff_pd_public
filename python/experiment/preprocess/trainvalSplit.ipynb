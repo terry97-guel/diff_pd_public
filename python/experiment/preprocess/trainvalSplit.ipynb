{
 "cells": [
  {
   "cell_type": "code",
   "execution_count": 14,
   "metadata": {},
   "outputs": [
    {
     "data": {
      "text/plain": [
       "[[0.011805839055417447, 0.0009742191730506139, 0.009692416703560549],\n",
       " [0.023260681321814643, 0.003867912397505776, 0.008778811505178582],\n",
       " [0.03402396541805079, 0.00859504792031297, 0.007286346598880205],\n",
       " [0.043775690525941095, 0.015015084321080095, 0.00525939412860006],\n",
       " [0.05222593026378489, 0.022937148917951615, 0.0027582169697869287],\n",
       " [0.05912345242347633, 0.032125712561083916, -0.00014282293281360665],\n",
       " [0.06426318829970078, 0.04230759209769061, -0.0033574754036864774],\n",
       " [0.06749232954224281, 0.05318007231991868, -0.0067901663214332865],\n",
       " [0.06871487126723905, 0.06441990592372013, -0.010338839111830683]]"
      ]
     },
     "execution_count": 14,
     "metadata": {},
     "output_type": "execute_result"
    }
   ],
   "source": [
    "import json\n",
    "import numpy as np\n",
    "# Opening JSON file\n",
    "a = open('Interpolate.json')\n",
    "\n",
    "Interpolate = json.load(a)\n",
    "Interpolate = Interpolate['data']\n",
    "Interpolate[0]['position']"
   ]
  },
  {
   "cell_type": "code",
   "execution_count": 15,
   "metadata": {},
   "outputs": [],
   "source": [
    "#softrobot width\n",
    "width = 0.02\n",
    "\n",
    "for idx,ele in enumerate(Interpolate):\n",
    "    temp = ele['position']\n",
    "    temp = np.array(temp)\n",
    "    \n",
    "    pos = np.zeros_like(temp)\n",
    "    \n",
    "    pos[:, 0] = temp[:, 1] + width/2\n",
    "    pos[:, 1] = temp[:, 2] + width/2\n",
    "    pos[:, 2] = temp[:, 0]\n",
    "    \n",
    "    pos = pos.tolist()\n",
    "    \n",
    "    Interpolate[idx]['position'] = pos"
   ]
  },
  {
   "cell_type": "code",
   "execution_count": 18,
   "metadata": {},
   "outputs": [],
   "source": [
    "import random\n",
    "random.seed(42)\n",
    "\n",
    "random.shuffle(Interpolate)\n",
    "\n",
    "length = len(Interpolate)\n",
    "trainInterpolate  =  Interpolate[:int(length*0.9)]\n",
    "valInterpolate    =  Interpolate[int(length*0.9):]\n",
    "\n",
    "trainInterpolate  = {'data':trainInterpolate}\n",
    "valInterpolate    = {'data':valInterpolate}\n",
    "\n",
    "# with open(\"trainInterpolate.json\", 'w') as trainInter:\n",
    "#     json.dump(trainInterpolate,trainInter)\n",
    "#     trainInter.close()\n",
    "\n",
    "# with open(\"valInterpolate.json\", 'w') as valInter:\n",
    "#     json.dump(valInterpolate,valInter)\n",
    "#     valInter.close()"
   ]
  },
  {
   "cell_type": "code",
   "execution_count": 3,
   "metadata": {},
   "outputs": [
    {
     "data": {
      "text/plain": [
       "[[0.012363015512538895, -0.0005565517132606074, 0.008511902110094779],\n",
       " [0.023922610186643198, -0.002190038877385796, 0.0041443137185669405],\n",
       " [0.03392757415481629, -0.004794307971364245, -0.0028189338128983697],\n",
       " [0.04172772651809668, -0.008200118403620915, -0.011925328056060367],\n",
       " [0.046816167892166013, -0.01218614075252257, -0.02258308241237141],\n",
       " [0.04886222168514151, -0.01649334004279756, -0.03409959385693899],\n",
       " [0.04773292339073689, -0.020841809348697234, -0.04572645232174599],\n",
       " [0.04350166139721494, -0.024948959778206565, -0.05670807674595159],\n",
       " [0.03644340778198058, -0.028547884747061644, -0.06633081713912095]]"
      ]
     },
     "execution_count": 3,
     "metadata": {},
     "output_type": "execute_result"
    }
   ],
   "source": [
    "## Split Extrapolate\n",
    "\n",
    "import json\n",
    "import numpy as np\n",
    "# Opening JSON file\n",
    "a = open('Extrapolate.json')\n",
    "\n",
    "Extrapolate = json.load(a)\n",
    "Extrapolate = Extrapolate['data']\n",
    "Extrapolate[0]['position']\n",
    "\n"
   ]
  },
  {
   "cell_type": "code",
   "execution_count": 4,
   "metadata": {},
   "outputs": [],
   "source": [
    "#softrobot width\n",
    "width = 0.02\n",
    "\n",
    "for idx,ele in enumerate(Extrapolate):\n",
    "    temp = ele['position']\n",
    "    temp = np.array(temp)\n",
    "    \n",
    "    pos = np.zeros_like(temp)\n",
    "    \n",
    "    pos[:, 0] = temp[:, 1] + width/2\n",
    "    pos[:, 1] = temp[:, 2] + width/2\n",
    "    pos[:, 2] = temp[:, 0]\n",
    "    \n",
    "    pos = pos.tolist()\n",
    "    \n",
    "    Extrapolate[idx]['position'] = pos"
   ]
  },
  {
   "cell_type": "code",
   "execution_count": null,
   "metadata": {},
   "outputs": [],
   "source": [
    "import random\n",
    "random.seed(42)\n",
    "\n",
    "random.shuffle(Extrapolate)\n",
    "\n",
    "length = len(Extrapolate)\n",
    "trainExtrapolate  =  Extrapolate[:int(length*0.9)]\n",
    "valExtrapolate   =  Extrapolate[int(length*0.9):]\n",
    "\n",
    "trainExtrapolate  = {'data':trainExtrapolate}\n",
    "valExtrapolate    = {'data':valExtrapolate}\n",
    "\n",
    "# with open(\"trainExtrapolate.json\", 'w') as trainExtra:\n",
    "#     json.dump(trainInterpolate,trainExtra)\n",
    "#     trainExtra.close()\n",
    "\n",
    "with open(\"valExtrapolate.json\", 'w') as valExtra:\n",
    "    json.dump(valExtrapolate,valExtra)\n",
    "    valExtra.close()"
   ]
  }
 ],
 "metadata": {
  "interpreter": {
   "hash": "a3e9125627a855b33378498b98445c671570c47a9fb08d6d2b8344ec5d673d64"
  },
  "kernelspec": {
   "display_name": "Python 3.8.3 ('diff_pd')",
   "language": "python",
   "name": "python3"
  },
  "language_info": {
   "codemirror_mode": {
    "name": "ipython",
    "version": 3
   },
   "file_extension": ".py",
   "mimetype": "text/x-python",
   "name": "python",
   "nbconvert_exporter": "python",
   "pygments_lexer": "ipython3",
   "version": "3.8.3"
  },
  "orig_nbformat": 4
 },
 "nbformat": 4,
 "nbformat_minor": 2
}
